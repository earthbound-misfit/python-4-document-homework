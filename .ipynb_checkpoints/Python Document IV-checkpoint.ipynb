{
 "cells": [
  {
   "cell_type": "markdown",
   "metadata": {
    "id": "tzz5-Wnl6qaM"
   },
   "source": [
    "# Object-Oriented-Programming (OOP)"
   ]
  },
  {
   "cell_type": "markdown",
   "metadata": {
    "id": "u5kRIYx66qaO"
   },
   "source": [
    "## Tasks Today:\n",
    "\n",
    "   \n",
    "\n",
    "1) <b>Creating a Class (Initializing/Declaring)</b> <br>\n",
    "2) <b>Using a Class (Instantiating)</b> <br>\n",
    " &nbsp;&nbsp;&nbsp;&nbsp; a) Creating One Instance <br>\n",
    " &nbsp;&nbsp;&nbsp;&nbsp; b) Creating Multiple Instances <br>\n",
    " &nbsp;&nbsp;&nbsp;&nbsp; c) In-Class Exercise #1 - Create a Class 'Car' and instantiate three different makes of cars <br>\n",
    "3) <b>The \\__init\\__() Method</b> <br>\n",
    " &nbsp;&nbsp;&nbsp;&nbsp; a) The 'self' Attribute <br>\n",
    "4) <b>Class Attributes</b> <br>\n",
    " &nbsp;&nbsp;&nbsp;&nbsp; a) Initializing Attributes <br>\n",
    " &nbsp;&nbsp;&nbsp;&nbsp; b) Setting an Attribute Outside of the \\__init\\__() Method <br>\n",
    " &nbsp;&nbsp;&nbsp;&nbsp; c) Setting Defaults for Attributes <br>\n",
    " &nbsp;&nbsp;&nbsp;&nbsp; d) Accessing Class Attributes <br>\n",
    " &nbsp;&nbsp;&nbsp;&nbsp; e) Changing Class Attributes <br>\n",
    " &nbsp;&nbsp;&nbsp;&nbsp; f) In-Class Exercise #2 - Add a color and wheels attribute to your 'Car' class <br>\n",
    "5) <b>Class Methods</b> <br>\n",
    " &nbsp;&nbsp;&nbsp;&nbsp; a) Creating <br>\n",
    " &nbsp;&nbsp;&nbsp;&nbsp; b) Calling <br>\n",
    " &nbsp;&nbsp;&nbsp;&nbsp; c) Modifying an Attribute's Value Through a Method <br>\n",
    " &nbsp;&nbsp;&nbsp;&nbsp; d) Incrementing an Attribute's Value Through a Method <br>\n",
    " &nbsp;&nbsp;&nbsp;&nbsp; e) In-Class Exercise #3 - Add a method that prints the cars color and wheel number, then call them <br>\n",
    "6) <b>Inheritance</b> <br>\n",
    " &nbsp;&nbsp;&nbsp;&nbsp; a) Syntax for Inheriting from a Parent Class <br>\n",
    " &nbsp;&nbsp;&nbsp;&nbsp; b) The \\__init\\__() Method for a Child Class (super()) <br>\n",
    " &nbsp;&nbsp;&nbsp;&nbsp; c) Defining Attributes and Methods for the Child Class <br>\n",
    " &nbsp;&nbsp;&nbsp;&nbsp; d) Method Overriding <br>\n",
    " &nbsp;&nbsp;&nbsp;&nbsp; e) In-Class Exercise #4 - Create a class 'Ford' that inherits from 'Car' class and initialize it as a Blue Ford Explorer with 4 wheels using the super() method <br>\n",
    "7) <b>Classes as Attributes</b> <br>\n",
    "8) <b>Exercises</b> <br>\n",
    " &nbsp;&nbsp;&nbsp;&nbsp; a) Exercise #1 - Turn the shopping cart program from yesterday into an object-oriented program <br>"
   ]
  },
  {
   "cell_type": "markdown",
   "metadata": {
    "id": "bV1RNZTn6qaP"
   },
   "source": [
    "## Creating a Class (Initializing/Declaring)\n",
    "<p>When creating a class, function, or even a variable you are initializing that object. Initializing and Declaring occur at the same time in Python, whereas in lower level languages you have to declare an object before initializing it. This is the first step in the process of using a class.</p>"
   ]
  },
  {
   "cell_type": "code",
   "execution_count": 1,
   "metadata": {
    "executionInfo": {
     "elapsed": 307,
     "status": "ok",
     "timestamp": 1654400144143,
     "user": {
      "displayName": "Brandon Apol",
      "userId": "10984203036753147866"
     },
     "user_tz": 480
    },
    "id": "S7HPzAkZ6qaQ"
   },
   "outputs": [],
   "source": [
    "class Car():\n",
    "    wheels = 4\n",
    "    color = 'blue'\n",
    "    bumper = 'yes'"
   ]
  },
  {
   "cell_type": "markdown",
   "metadata": {
    "id": "Bi4oK3Om6qaQ"
   },
   "source": [
    "## Using a Class (Instantiating)\n",
    "<p>The process of creating a class is called <i>Instantiating</i>. Each time you create a variable of that type of class, it is referred to as an <i>Instance</i> of that class. This is the second step in the process of using a class.</p>"
   ]
  },
  {
   "cell_type": "markdown",
   "metadata": {
    "id": "_WzS37Z_6qaR"
   },
   "source": [
    "##### Creating One Instance"
   ]
  },
  {
   "cell_type": "code",
   "execution_count": 6,
   "metadata": {
    "colab": {
     "base_uri": "https://localhost:8080/"
    },
    "executionInfo": {
     "elapsed": 306,
     "status": "ok",
     "timestamp": 1654400232968,
     "user": {
      "displayName": "Brandon Apol",
      "userId": "10984203036753147866"
     },
     "user_tz": 480
    },
    "id": "GNpeQ4056qaR",
    "outputId": "75a86f8c-980c-438f-dc34-fd9ed4b00c55"
   },
   "outputs": [
    {
     "name": "stdout",
     "output_type": "stream",
     "text": [
      "4\n"
     ]
    }
   ],
   "source": [
    "ford = Car()\n",
    "print(ford.wheels)"
   ]
  },
  {
   "cell_type": "markdown",
   "metadata": {
    "id": "5UTTxfbq6qaS"
   },
   "source": [
    "##### Creating Multiple Instances"
   ]
  },
  {
   "cell_type": "code",
   "execution_count": 2,
   "metadata": {
    "colab": {
     "base_uri": "https://localhost:8080/",
     "height": 218
    },
    "executionInfo": {
     "elapsed": 276,
     "status": "error",
     "timestamp": 1654400319844,
     "user": {
      "displayName": "Brandon Apol",
      "userId": "10984203036753147866"
     },
     "user_tz": 480
    },
    "id": "vvNgCYxM6qaS",
    "outputId": "694d656d-da72-4748-b400-e1a62bca93fd"
   },
   "outputs": [
    {
     "name": "stdout",
     "output_type": "stream",
     "text": [
      "<class 'str'>\n",
      "yes\n"
     ]
    }
   ],
   "source": [
    "chevy = Car()\n",
    "honda = Car()\n",
    "porsche = Car()\n",
    "\n",
    "print(type(porsche.color))\n",
    "print(porsche.bumper)\n"
   ]
  },
  {
   "cell_type": "markdown",
   "metadata": {
    "id": "Nkie3MQN6qaS"
   },
   "source": [
    "##### In-Class Exercise #1 - Create a Class 'Car' and Instantiate three different makes of cars"
   ]
  },
  {
   "cell_type": "code",
   "execution_count": 57,
   "metadata": {
    "id": "l_CiL6xs6qaS"
   },
   "outputs": [
    {
     "name": "stdout",
     "output_type": "stream",
     "text": [
      "turquoise\n",
      "leather\n",
      "I had a silver Mitsubishi Eclipse with 10 wheels and 8 doors in college, but now I have a black Subaru Forester with 4 wheels and 4 doors.\n"
     ]
    }
   ],
   "source": [
    "class Car():\n",
    "    color = \"black\"\n",
    "    interior = \"leather\"\n",
    "    \n",
    "    def __init__(self,color,interior,model,make,doors=4,wheels=4):\n",
    "        self.color = color\n",
    "        self.interior = interior\n",
    "        self.model = model\n",
    "        self.make = make\n",
    "        self.doors = doors\n",
    "        self.wheels = wheels\n",
    "        \n",
    "    \n",
    "subaru = Car(\"black\",\"fabric\",\"Forester\", \"Subaru\")\n",
    "honda = Car(\"blue\",\"leather\",\"Prelude\", \"Honda\")\n",
    "dodge = Car(\"turquoise\",\"leather\",\"Bronco\", \"Dodge\")\n",
    "mitsubishi = Car(\"silver\",\"leather\", \"Eclipse\", \"Mitsubishi\",8,10)\n",
    "\n",
    "print(dodge.color)\n",
    "print(honda.interior)\n",
    "print(f'I had a {mitsubishi.color} {mitsubishi.make} {mitsubishi.model} with {mitsubishi.wheels} wheels and {mitsubishi.doors} doors in college, but now I have a {subaru.color} {subaru.make} {subaru.model} with {subaru.wheels} wheels and {subaru.doors} doors.')\n"
   ]
  },
  {
   "cell_type": "markdown",
   "metadata": {
    "id": "4I9QMKHT6qaS"
   },
   "source": [
    "## The \\__init\\__() Method <br>\n",
    "<p>This method is used in almost every created class, and called only once upon the creation of the class instance. This method will initialize all variables needed for the object.</p>"
   ]
  },
  {
   "cell_type": "code",
   "execution_count": 32,
   "metadata": {
    "colab": {
     "base_uri": "https://localhost:8080/"
    },
    "executionInfo": {
     "elapsed": 297,
     "status": "ok",
     "timestamp": 1654400605284,
     "user": {
      "displayName": "Brandon Apol",
      "userId": "10984203036753147866"
     },
     "user_tz": 480
    },
    "id": "A4mXk-5v6qaT",
    "outputId": "ac218617-dc13-4856-aeaf-b8afe334d484"
   },
   "outputs": [
    {
     "name": "stdout",
     "output_type": "stream",
     "text": [
      "A car has 4 wheels, but some large vehicles could have 6.\n",
      "Cars that are red are more likely to get pulled over than black ones.\n"
     ]
    }
   ],
   "source": [
    "class Car():\n",
    "  engine = '4.7L' # constant attribute\n",
    "\n",
    "  def __init__(self, wheels, color):\n",
    "    self.wheels = wheels\n",
    "    self.color = color\n",
    "\n",
    "ford = Car(4, 'red')\n",
    "chevy = Car(6, 'black')\n",
    "\n",
    "print(f'A car has {ford.wheels} wheels, but some large vehicles could have {chevy.wheels}.')\n",
    "print(f'Cars that are {ford.color} are more likely to get pulled over than {chevy.color} ones.')"
   ]
  },
  {
   "cell_type": "markdown",
   "metadata": {
    "id": "E3FhAPyW6qaT"
   },
   "source": [
    "##### The 'self' Attribute <br>\n",
    "<p>This attribute is required to keep track of specific instance's attributes. Without the self attribute, the program would not know how to reference or keep track of an instance's attributes.</p>"
   ]
  },
  {
   "cell_type": "code",
   "execution_count": null,
   "metadata": {
    "id": "gqlafbUx6qaT"
   },
   "outputs": [],
   "source": [
    "\n"
   ]
  },
  {
   "cell_type": "markdown",
   "metadata": {
    "id": "rTd9cgBn6qaT"
   },
   "source": [
    "## Class Attributes <br>\n",
    "<p>While variables are inside of a class, they are referred to as attributes and not variables. When someone says 'attribute' you know they're speaking about a class. Attributes can be initialized through the init method, or outside of it.</p>"
   ]
  },
  {
   "cell_type": "markdown",
   "metadata": {
    "id": "sXSQitFB6qaT"
   },
   "source": [
    "##### Initializing Attributes"
   ]
  },
  {
   "cell_type": "code",
   "execution_count": 61,
   "metadata": {
    "executionInfo": {
     "elapsed": 263,
     "status": "ok",
     "timestamp": 1654400961508,
     "user": {
      "displayName": "Brandon Apol",
      "userId": "10984203036753147866"
     },
     "user_tz": 480
    },
    "id": "gFrutSJ96qaT"
   },
   "outputs": [],
   "source": [
    "# see above\n",
    "\n",
    "class Toy():\n",
    "  kind = 'car'\n",
    "\n",
    "  def __init__(self, rooftop, horn, wheels = 4):\n",
    "    self.rooftop = rooftop\n",
    "    self.horn = horn\n",
    "    self.wheels = wheels\n",
    "\n",
    "tonka_truck = Toy(1,1,4)\n",
    "hotwheels_car = Toy(2,3,8)\n",
    "\n"
   ]
  },
  {
   "cell_type": "markdown",
   "metadata": {
    "id": "5qEDs3Ef6qaU"
   },
   "source": [
    "##### Accessing Class Attributes"
   ]
  },
  {
   "cell_type": "code",
   "execution_count": 11,
   "metadata": {
    "colab": {
     "base_uri": "https://localhost:8080/"
    },
    "executionInfo": {
     "elapsed": 336,
     "status": "ok",
     "timestamp": 1654401000610,
     "user": {
      "displayName": "Brandon Apol",
      "userId": "10984203036753147866"
     },
     "user_tz": 480
    },
    "id": "9Uo5umjk6qaU",
    "outputId": "5187dd0d-2ac2-48dd-8be2-b3d10e145241",
    "scrolled": true
   },
   "outputs": [
    {
     "name": "stdout",
     "output_type": "stream",
     "text": [
      "1\n",
      "8\n"
     ]
    }
   ],
   "source": [
    "# See Above\n",
    "print(tonka_truck.horn)\n",
    "print(hotwheels_car.wheels)"
   ]
  },
  {
   "cell_type": "markdown",
   "metadata": {
    "id": "589n2bfI6qaU"
   },
   "source": [
    "##### Setting Defaults for Attributes"
   ]
  },
  {
   "cell_type": "code",
   "execution_count": 66,
   "metadata": {
    "colab": {
     "base_uri": "https://localhost:8080/"
    },
    "executionInfo": {
     "elapsed": 291,
     "status": "ok",
     "timestamp": 1654401207595,
     "user": {
      "displayName": "Brandon Apol",
      "userId": "10984203036753147866"
     },
     "user_tz": 480
    },
    "id": "xbpERQEX6qaU",
    "outputId": "b8c54225-fdc5-4ae4-eda9-8d588a17b2f5"
   },
   "outputs": [
    {
     "name": "stdout",
     "output_type": "stream",
     "text": [
      "Blue\n",
      "4\n",
      "Turquoise\n"
     ]
    }
   ],
   "source": [
    "class Car():\n",
    "    engine = '4.7L'\n",
    "    \n",
    "    def __init__(self,wheels):\n",
    "        self.wheels = wheels\n",
    "        self.color = \"Blue\" # Cannot overwrite!\n",
    "\n",
    "honda = Car(4)\n",
    "print(honda.color)\n",
    "print(honda.wheels)\n",
    "honda.engine = '5.4L'\n",
    "\n",
    "toyota = Car(4)\n",
    "toyota.color = \"Turquoise\"\n",
    "print(toyota.color)"
   ]
  },
  {
   "cell_type": "markdown",
   "metadata": {
    "id": "ir8k02ZE6qaU"
   },
   "source": [
    "##### Changing Class Attributes <br>\n",
    "<p>Keep in mind there are global class attributes and then there are attributes only available to each class instance which won't effect other classes.</p>"
   ]
  },
  {
   "cell_type": "code",
   "execution_count": 64,
   "metadata": {
    "id": "RfGZ5kbu6qaU"
   },
   "outputs": [
    {
     "name": "stdout",
     "output_type": "stream",
     "text": [
      "Before change: Blue\n",
      "\n",
      "After change: White\n"
     ]
    }
   ],
   "source": [
    "jeep = Car(8)\n",
    "\n",
    "print(f'Before change: {jeep.color}')\n",
    "\n",
    "jeep.color = \"White\"\n",
    "\n",
    "print(f'\\nAfter change: {jeep.color}')"
   ]
  },
  {
   "cell_type": "code",
   "execution_count": null,
   "metadata": {
    "id": "zeppI2y-6qaU"
   },
   "outputs": [],
   "source": []
  },
  {
   "cell_type": "markdown",
   "metadata": {
    "id": "omwSVPyN6qaU"
   },
   "source": [
    "##### In-Class Exercise #2 - Add a doors and seats attribute to your 'Car' class then print out two different instances with different doors and seats"
   ]
  },
  {
   "cell_type": "code",
   "execution_count": 56,
   "metadata": {
    "id": "fyKwSeJg6qaU"
   },
   "outputs": [
    {
     "name": "stdout",
     "output_type": "stream",
     "text": [
      "8\n",
      "6\n",
      "5\n",
      "4\n"
     ]
    }
   ],
   "source": [
    "class Car():\n",
    "    color = \"black\"\n",
    "    interior = \"leather\"\n",
    "    \n",
    "    def __init__(self,color,interior,model,make,doors=4,seats=6):\n",
    "        self.color = color\n",
    "        self.interior = interior\n",
    "        self.model = model\n",
    "        self.make = make\n",
    "        self.doors = doors\n",
    "        self.seats = seats\n",
    "        \n",
    "    \n",
    "subaru = Car(\"black\",\"fabric\",\"Forester\", \"Subaru\",5)\n",
    "honda = Car(\"blue\",\"leather\",\"Prelude\", \"Honda\",4,8)\n",
    "dodge = Car(\"turquoise\",\"leather\",\"Bronco\", \"Dodge\")\n",
    "mitsubishi = Car(\"silver\",\"leather\", \"Eclipse\", \"Mitsubishi\")\n",
    "\n",
    "print(honda.seats)\n",
    "print(mitsubishi.seats)\n",
    "print(subaru.doors)\n",
    "print(dodge.doors)"
   ]
  },
  {
   "cell_type": "markdown",
   "metadata": {
    "id": "2cAd7L9I6qaU"
   },
   "source": [
    "## Class Methods <br>\n",
    "<p>While inside of a class, functions are referred to as 'methods'. If you hear someone mention methods, they're speaking about classes. Methods are essentially functions, but only callable on the instances of a class.</p>"
   ]
  },
  {
   "cell_type": "markdown",
   "metadata": {
    "id": "GpY6_Yz56qaU"
   },
   "source": [
    "##### Creating"
   ]
  },
  {
   "cell_type": "code",
   "execution_count": 107,
   "metadata": {
    "executionInfo": {
     "elapsed": 260,
     "status": "ok",
     "timestamp": 1654402995715,
     "user": {
      "displayName": "Brandon Apol",
      "userId": "10984203036753147866"
     },
     "user_tz": 480
    },
    "id": "DuiDzP1p6qaU"
   },
   "outputs": [],
   "source": [
    "class ShoppingBag():\n",
    "\n",
    "  '''\n",
    "    The ShoppingBag class will have handles, capacity, \n",
    "    and items to place inside.\n",
    "\n",
    "    Attributes for the class: \n",
    "    - handles: expected to be an integer\n",
    "    - items: expected to be a list\n",
    "    - capacity: expected to be an integer\n",
    "  '''\n",
    "\n",
    "  def __init__(self,handles, items = [], capacity = 10):\n",
    "    self.handles = handles\n",
    "    self.items = items\n",
    "    self.capacity = capacity\n",
    "\n",
    "  def showShoppingBag(self):\n",
    "    if len(self.items) == 0:\n",
    "      print('You have no items.')\n",
    "    else:\n",
    "      print(\"You have items in your bag!!!\")\n",
    "      for item in self.items:\n",
    "        print(item)\n",
    "\n",
    "  def showCapacity(self):\n",
    "    print(f'Your remaining capacity is: {self.capacity - len(self.items)}')\n",
    "\n",
    "  def changeBagCapacity(self, capacity):\n",
    "    self.capacity = capacity\n",
    "\n",
    "  def increaseCapacity(self, changed_capacity = 10):\n",
    "    if self.capacity == isinstance(self.capacity,str):\n",
    "        print(\"We can't add that here\")\n",
    "    else: \n",
    "        self.capacity += changed_capacity\n",
    "\n",
    "  def addToShoppingBag(self):\n",
    "    if len(self.items) == self.capacity:\n",
    "      print('You have no room!')\n",
    "    else:\n",
    "      product = input('What would you like to add? ')\n",
    "      self.items.append(product)\n",
    "\n",
    "  def showHandles(self):\n",
    "    print(f'You have {self.handles} handles on your bag')"
   ]
  },
  {
   "cell_type": "markdown",
   "metadata": {
    "id": "jLqPPUlV6qaU"
   },
   "source": [
    "##### Calling"
   ]
  },
  {
   "cell_type": "code",
   "execution_count": 111,
   "metadata": {
    "colab": {
     "base_uri": "https://localhost:8080/"
    },
    "executionInfo": {
     "elapsed": 48652,
     "status": "ok",
     "timestamp": 1654403046490,
     "user": {
      "displayName": "Brandon Apol",
      "userId": "10984203036753147866"
     },
     "user_tz": 480
    },
    "id": "dQJXHGDp6qaU",
    "outputId": "766e54ef-853c-4e8e-b0d1-e793f1f06323"
   },
   "outputs": [
    {
     "name": "stdout",
     "output_type": "stream",
     "text": [
      "What would you like to do?\n",
      "\n",
      "You may:\n",
      "- Add\n",
      "-Show\n",
      "-Quit\n",
      "add\n",
      "What would you like to add? bananas\n",
      "What would you like to do?\n",
      "\n",
      "You may:\n",
      "- Add\n",
      "-Show\n",
      "-Quit\n",
      "quit\n",
      "You have items in your bag!!!\n",
      "bananas\n",
      "Thanks for shopping!\n"
     ]
    }
   ],
   "source": [
    "# See Above\n",
    "\n",
    "wholeFoodsBag = ShoppingBag(2)\n",
    "\n",
    "def run():\n",
    "  while True:\n",
    "    response = input(\"What would you like to do?\\n\\nYou may:\\n- Add\\n-Show\\n-Quit\\n\")\n",
    "\n",
    "    if response.lower() == 'quit':\n",
    "      wholeFoodsBag.showShoppingBag()\n",
    "      print('Thanks for shopping!')\n",
    "      break\n",
    "    elif response.lower() == 'add':\n",
    "      wholeFoodsBag.addToShoppingBag()\n",
    "    elif response.lower() == 'show':\n",
    "      showChoice = input('What would you like to see: \\n- Capacity\\n- Handles\\n- Shopping Bag')\n",
    "      if showChoice.lower() == 'capacity':\n",
    "        wholeFoodsBag.showCapacity()\n",
    "      elif showChoice.lower() == 'handles':\n",
    "        wholeFoodsBag.showHandles()\n",
    "      else:\n",
    "        wholeFoodsBag.showShoppingBag()\n",
    "    else:\n",
    "      print('That is not a valid option. Please enter add, show, or quit.')\n",
    "\n",
    "run()"
   ]
  },
  {
   "cell_type": "markdown",
   "metadata": {
    "id": "zKvlDgTo6qaV"
   },
   "source": [
    "##### Modifying an Attribute's Value Through a Method"
   ]
  },
  {
   "cell_type": "code",
   "execution_count": 116,
   "metadata": {
    "id": "9M6x0qsk6qaV"
   },
   "outputs": [
    {
     "name": "stdout",
     "output_type": "stream",
     "text": [
      "Your remaining capacity is: 39\n"
     ]
    }
   ],
   "source": [
    "wholeFoodsBag.changeBagCapacity(40)\n",
    "wholeFoodsBag.showCapacity()"
   ]
  },
  {
   "cell_type": "markdown",
   "metadata": {
    "id": "s1eIpLA76qaV"
   },
   "source": [
    "##### Incrementing an Attribute's Value Through a Method"
   ]
  },
  {
   "cell_type": "code",
   "execution_count": 117,
   "metadata": {
    "id": "DBQ07qOI6qaV"
   },
   "outputs": [
    {
     "name": "stdout",
     "output_type": "stream",
     "text": [
      "Your remaining capacity is: 99\n"
     ]
    }
   ],
   "source": [
    "wholeFoodsBag.increaseCapacity(10)\n",
    "wholeFoodsBag.increaseCapacity(50)\n",
    "wholeFoodsBag.showCapacity()"
   ]
  },
  {
   "cell_type": "markdown",
   "metadata": {
    "id": "3OnGbPMg6qaV"
   },
   "source": [
    "##### In-Class Exercise #3 - Add a method that takes in three parameters of year, doors and seats and prints out a formatted print statement with make, model, year, seats, and doors"
   ]
  },
  {
   "cell_type": "code",
   "execution_count": 129,
   "metadata": {
    "id": "njxbIERD6qaV"
   },
   "outputs": [
    {
     "name": "stdout",
     "output_type": "stream",
     "text": [
      "This car is from 2011 and is a Subaru Forester and has 4 doors and 6 seats.\n",
      "None\n"
     ]
    }
   ],
   "source": [
    "# Create class with 2 paramters inside of the __init__ which are make and model\n",
    "\n",
    "# Inside of the Car class create a method that has 4 parameter in total (self,year,door,seats)\n",
    "\n",
    "# Output: This car is from 2019 and is a Ford Expolorer and has 4 doors and 5 seats\n",
    "\n",
    "\n",
    "class Car():\n",
    "    \n",
    "    def __init__(self, make, model):\n",
    "        self.make = make\n",
    "        self.model = model\n",
    "    \n",
    "    def features(self,year,doors,seats):\n",
    "        self.year = year\n",
    "        self.doors = doors\n",
    "        self.seats = seats\n",
    "        print(f'This car is from {self.year} and is a {self.make} {self.model} and has {self.doors} doors and {self.seats} seats.')\n",
    "\n",
    "subaru = Car(\"Subaru\", \"Forester\")\n",
    "\n",
    "print(subaru.features(2011,4,6))\n"
   ]
  },
  {
   "cell_type": "markdown",
   "metadata": {
    "id": "dwpcygAo6qaV"
   },
   "source": [
    "## Inheritance <br>\n",
    "<p>You can create a child-parent relationship between two classes by using inheritance. What this allows you to do is have overriding methods, but also inherit traits from the parent class. Think of it as an actual parent and child, the child will inherit the parent's genes, as will the classes in OOP</p>"
   ]
  },
  {
   "cell_type": "markdown",
   "metadata": {
    "id": "RxjwbuIl6qaV"
   },
   "source": [
    "##### Syntax for Inheriting from a Parent Class"
   ]
  },
  {
   "cell_type": "code",
   "execution_count": 10,
   "metadata": {
    "id": "fVjKab2o6qaV"
   },
   "outputs": [
    {
     "name": "stdout",
     "output_type": "stream",
     "text": [
      "Bark\n",
      "Make some generic sound\n",
      "None\n",
      "Generic Name\n",
      "Bulldog\n",
      "The dog runs 15mph in speed and 9.8\n",
      "None\n",
      "9.8\n",
      "15\n",
      "15\n"
     ]
    }
   ],
   "source": [
    "# Create a parent class\n",
    "\n",
    "class Animal():\n",
    "    acceleration = 9.8\n",
    "    \n",
    "    def __init__(self, name, species, legs = 4):\n",
    "        self.name = name\n",
    "        self.species = species\n",
    "        self.legs = legs\n",
    "        \n",
    "    # Generic Parent Method - NOT overriding anything\n",
    "    def makeSound(self):\n",
    "        print(\"Make some generic sound\")\n",
    "        \n",
    "# Now make child class - Dog\n",
    "\n",
    "class Dog(Animal):\n",
    "    speed = 15\n",
    "    \n",
    "    def printInfo(self):\n",
    "        print(f'The dog runs {self.speed}mph in speed and {self.acceleration}')\n",
    "        \n",
    "# Make grand-child class - Mutt\n",
    "\n",
    "class Mutt(Dog):\n",
    "    color = \"tan\"\n",
    "    \n",
    "    # Override the Animal class - using the Dog class to overwrite the __init__ from Animal\n",
    "    def __init__(self,name,species,eye_color,legs=4):\n",
    "        Dog.__init__(self,name,species,legs=4)\n",
    "        self.eye_color = eye_color\n",
    "    \n",
    "    # Override the makeSound method (which is coming from 'Animal')\n",
    "    def makeSound(self):\n",
    "        noise = \"Bark\"\n",
    "        return noise\n",
    "    \n",
    "Betty = Dog(\"Betty\",\"Bulldog\")\n",
    "any_animal = Animal(\"Generic Name\",\"Generic Species\")\n",
    "Tripp = Mutt(\"Tripp\",\"Hound\",\"Brown\")\n",
    "\n",
    "print(Tripp.makeSound())\n",
    "print(Betty.makeSound())\n",
    "print(any_animal.name)\n",
    "print(Betty.species)\n",
    "print(Betty.printInfo())\n",
    "print(Tripp.acceleration)\n",
    "print(Betty.speed)\n",
    "print(Tripp.speed)\n",
    "    "
   ]
  },
  {
   "cell_type": "markdown",
   "metadata": {
    "id": "gW-PNDG66qaV"
   },
   "source": [
    "##### The \\__init\\__() Method for a Child Class - super()"
   ]
  },
  {
   "cell_type": "code",
   "execution_count": 16,
   "metadata": {
    "id": "kfA6mVBq6qaV",
    "scrolled": true
   },
   "outputs": [
    {
     "name": "stdout",
     "output_type": "stream",
     "text": [
      "green\n",
      "blue\n",
      "9.8\n",
      "Ruff Ruff\n"
     ]
    }
   ],
   "source": [
    "class Puppy(Dog):\n",
    "    color = \"blue\"\n",
    "    \n",
    "    # Override animal class __init__ (via Dog class)\n",
    "    def __init__(self, name, species, eye_color, legs=4):\n",
    "        super().__init__(name,species,legs)\n",
    "        self.eye_color = eye_color\n",
    "        \n",
    "    # Override the makeSound method\n",
    "    def makeSound(self):\n",
    "        noise = \"Ruff Ruff\"\n",
    "        return noise\n",
    "    \n",
    "Lucille = Puppy(\"Lucille\",\"puppy\", \"green\")\n",
    "    \n",
    "print(Lucille.eye_color)\n",
    "print(Lucille.color)\n",
    "print(Lucille.acceleration)\n",
    "print(Lucille.makeSound())"
   ]
  },
  {
   "cell_type": "markdown",
   "metadata": {
    "id": "XUO6XcM46qaV"
   },
   "source": [
    "##### Defining Attributes and Methods for the Child Class"
   ]
  },
  {
   "cell_type": "code",
   "execution_count": null,
   "metadata": {
    "id": "V2icaoLM6qaV"
   },
   "outputs": [],
   "source": [
    "# See Above"
   ]
  },
  {
   "cell_type": "markdown",
   "metadata": {
    "id": "9Rr2MZdB6qaV"
   },
   "source": [
    "##### Method Overriding"
   ]
  },
  {
   "cell_type": "code",
   "execution_count": null,
   "metadata": {
    "id": "r67j7Np96qaV"
   },
   "outputs": [],
   "source": [
    "# See Above"
   ]
  },
  {
   "cell_type": "markdown",
   "metadata": {
    "id": "2x6DBjcJ6qaV"
   },
   "source": [
    "## Classes as Attributes <br>\n",
    "<p>Classes can also be used as attributes within another class. This is useful in situations where you need to keep variables locally stored, instead of globally stored.</p>"
   ]
  },
  {
   "cell_type": "code",
   "execution_count": 20,
   "metadata": {
    "id": "yJ4rQuLP6qaV"
   },
   "outputs": [
    {
     "name": "stdout",
     "output_type": "stream",
     "text": [
      "20\n",
      "2019 Tesla Model X 20\n"
     ]
    }
   ],
   "source": [
    "class Battery():\n",
    "    volts = 7.8\n",
    "    \n",
    "    def __init__(self, cells):\n",
    "        self.cells = cells\n",
    "        \n",
    "class Car():\n",
    "    def __init__(self, year, make, model, battery):\n",
    "        self.year = year\n",
    "        self.make = make\n",
    "        self.model = model\n",
    "        self.battery = battery\n",
    "        \n",
    "    def print_info(self):\n",
    "        return f'{self.year} {self.make} {self.model} {self.battery.cells}'\n",
    "        \n",
    "my_battery = Battery(20)\n",
    "\n",
    "tesla = Car(2019, \"Tesla\", \"Model X\", my_battery)\n",
    "\n",
    "print(tesla.battery.cells)\n",
    "print(tesla.print_info())"
   ]
  },
  {
   "cell_type": "markdown",
   "metadata": {
    "id": "0TaDNag56qaV"
   },
   "source": [
    "# Exercises"
   ]
  },
  {
   "cell_type": "markdown",
   "metadata": {
    "id": "OmiCVOuc6qaV"
   },
   "source": [
    "### Exercise 1 - Turn the shopping cart program from yesterday into an object-oriented program\n",
    "\n",
    "The comments in the cell below are there as a guide for thinking about the problem. However, if you feel a different way is best for you and your own thought process, please do what feels best for you by all means."
   ]
  },
  {
   "cell_type": "code",
   "execution_count": 3,
   "metadata": {
    "id": "nIJiQUSl6qaW"
   },
   "outputs": [],
   "source": [
    "class Cart():\n",
    "\n",
    "  def __init__(self,items = []):\n",
    "    self.items = items\n",
    "\n",
    "  def showCart(self):\n",
    "    if len(self.items) == 0:\n",
    "      print('Your cart is empty.\\n')\n",
    "    else:\n",
    "      print(\"Items In Your Bag: \\n\")\n",
    "      print(f'{self.items}\\n')\n",
    "\n",
    "  def addItem(self):\n",
    "      item_to_add = input('What would you like to add? \\n')\n",
    "      self.items.append(item_to_add)\n",
    "  def deleteItem(self):\n",
    "      item_to_delete = input('What would you like to delete? \\n')\n",
    "      self.items.remove(item_to_delete)\n",
    "\n",
    "new_cart = Cart()\n",
    "\n",
    "def go_shopping():\n",
    "  while True:\n",
    "    action = input(\"What would you like to do?\\nPlease Type:\\n-Add\\n-Show\\n-Delete\\n-Quit\\n\")\n",
    "\n",
    "    if action.lower() == 'quit':\n",
    "      print('Enter your credit card info: ')\n",
    "      print('Just kidding, do not do that, this is not secure...')\n",
    "      print('Have a nice day!')\n",
    "      break\n",
    "    elif action.lower() == 'add':\n",
    "      new_cart.addItem()\n",
    "    elif action.lower() == 'show':\n",
    "      new_cart.showCart()\n",
    "    elif action.lower() == 'delete':\n",
    "      new_cart.deleteItem()\n",
    "    else:\n",
    "      print('Invalid option. Please enter add, show, delete, or quit.')\n",
    "\n",
    "go_shopping()"
   ]
  },
  {
   "cell_type": "markdown",
   "metadata": {
    "id": "X7uS68a06qaW"
   },
   "source": [
    "### Exercise 2 - Write a Python class which has two methods get_String and print_String. get_String accept a string from the user and print_String print the string in upper case"
   ]
  },
  {
   "cell_type": "code",
   "execution_count": null,
   "metadata": {
    "id": "WdrwThy96qaW"
   },
   "outputs": [],
   "source": [
    "class Capitalize():\n",
    "    def __init__(self):\n",
    "        self.string = \"\"\n",
    "    \n",
    "    def get_String(self):\n",
    "        self.string = input(\"Type something you want to print: \")\n",
    "        \n",
    "    def print_String(self):\n",
    "        print(self.string.upper())\n",
    "        \n",
    "new_string = Capitalize()\n",
    "\n",
    "new_string.get_String()\n",
    "new_string.print_String()"
   ]
  }
 ],
 "metadata": {
  "colab": {
   "name": "Python Document IV.ipynb",
   "provenance": []
  },
  "kernelspec": {
   "display_name": "Python 3 (ipykernel)",
   "language": "python",
   "name": "python3"
  },
  "language_info": {
   "codemirror_mode": {
    "name": "ipython",
    "version": 3
   },
   "file_extension": ".py",
   "mimetype": "text/x-python",
   "name": "python",
   "nbconvert_exporter": "python",
   "pygments_lexer": "ipython3",
   "version": "3.9.12"
  }
 },
 "nbformat": 4,
 "nbformat_minor": 1
}
